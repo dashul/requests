{
 "cells": [
  {
   "cell_type": "code",
   "execution_count": 2,
   "metadata": {
    "collapsed": true
   },
   "outputs": [],
   "source": [
    "import numpy as np\n",
    "import pandas as pd"
   ]
  },
  {
   "cell_type": "code",
   "execution_count": 11,
   "metadata": {},
   "outputs": [],
   "source": [
    "dat = pd.read_csv(\"C://rga_test/ru.csv\", sep=\";\", engine=\"c\", encoding=\"cp1251\")"
   ]
  },
  {
   "cell_type": "code",
   "execution_count": 16,
   "metadata": {},
   "outputs": [
    {
     "name": "stdout",
     "output_type": "stream",
     "text": [
      "Index(['ID', 'status', 'status extra', 'country', 'city', 'date add',\n       'program id', 'name*', 'surname*', 'tel*', 'email*',\n       'contact person name*', 'contact person surname*', 'diagnose',\n       'Disease name (in program)',\n       'removed (?1-удален; 2-в архиве; 3-успешно завершен; 4-current casses 5 - cusstom paid consultation; 6-pre sales )',\n       'current clinic name', 'Department', 'Sales manager 1',\n       'Sales manager 2', 'Travel manager', 'MHS', 'source', 'Payment'],\n      dtype='object')\n"
     ]
    }
   ],
   "source": [
    "print(dat.columns)"
   ]
  },
  {
   "cell_type": "code",
   "execution_count": 23,
   "metadata": {},
   "outputs": [],
   "source": [
    "y = dat[\"removed (?1-удален; 2-в архиве; 3-успешно завершен; 4-current casses 5 - cusstom paid consultation; 6-pre sales )\"]"
   ]
  },
  {
   "cell_type": "code",
   "execution_count": 135,
   "metadata": {},
   "outputs": [],
   "source": [
    "x = dat[['email*','contact person name*',\"diagnose\"]]\n",
    "x = x.fillna(\"\")"
   ]
  },
  {
   "cell_type": "code",
   "execution_count": null,
   "metadata": {},
   "outputs": [],
   "source": [
    ""
   ]
  },
  {
   "cell_type": "code",
   "execution_count": 136,
   "metadata": {},
   "outputs": [],
   "source": [
    "# quan_words\n",
    "x = x.assign(quan_words= x[\"diagnose\"].apply(lambda t: len(t.split())).values)\n",
    "# question\n",
    "x = x.assign(question= x[\"diagnose\"].apply(lambda t: t.count(\"?\")).values)\n",
    "# has_contact\n",
    "x = x.assign(has_contact= x[\"contact person name*\"].apply(lambda t: 0 if not t else 1).values)\n",
    "# without_stops\n",
    "x = x.assign(without_stops= x[\"diagnose\"].apply(lambda t: 0 if any(i in t for i in '.,;:?!') else 1).values)\n",
    "# has_digit\n",
    "x = x.assign(has_digit= x[\"diagnose\"].apply(lambda t: 1 if any(i in t for i in '1234567890') else 0).values)\n",
    "# big_letters\n",
    "x = x.assign(big_letters= x[\"diagnose\"].apply(lambda t: sum(1 if t[ind].isupper() and t[ind+1].isupper() and t[ind-1].islower else 0 \n",
    "                                                            for ind in range(0,len(t)-1))).values)\n",
    "# not_empty\n",
    "x = x.assign(not_empty= x[\"diagnose\"].apply(lambda t: 0 if not t else 1).values)\n",
    "# gmail\n",
    "x = x.assign(gmail= x[\"email*\"].apply(lambda t: 1 if \"gmail.com\" in t else 0).values)\n",
    "# mailru\n",
    "x = x.assign(mailru= x[\"email*\"].apply(lambda t: 1 if \"mail.ru\" in t else 0).values)\n",
    "# ukrnet\n",
    "x = x.assign(ukrnet= x[\"email*\"].apply(lambda t: 1 if \"ukr.net\" in t else 0).values)\n",
    "# other\n",
    "x = x.assign(other=pd.Series([0 if row[\"ukrnet\"] or row[\"mailru\"] or row[\"gmail\"] else 1 for ind,row in x.iterrows()]))\n",
    "# is_proper\n",
    "x = x.assign(is_proper= x[\"diagnose\"].apply(lambda t: 1 if t==t.capitalize() else 0).values)"
   ]
  },
  {
   "cell_type": "code",
   "execution_count": 137,
   "metadata": {},
   "outputs": [],
   "source": [
    "#lowercase diagnose\n",
    "x[\"diagnose\"] = x[\"diagnose\"].apply(lambda t: t.lower())\n",
    "\n",
    "# has_bol\n",
    "x = x.assign(has_bol= x[\"diagnose\"].apply(lambda t: 1 if \"бол\" in t else 0).values)\n",
    "\n",
    "# has_cancer\n",
    "x = x.assign(has_bol= x[\"diagnose\"].apply(lambda t: 1 if \"рак\" in t else 0).values)\n",
    "\n",
    "# has_prost\n",
    "x = x.assign(has_bol= x[\"diagnose\"].apply(lambda t: 1 if \"простат\" in t else 0).values)\n",
    "\n",
    "# has_grud\n",
    "x = x.assign(has_bol= x[\"diagnose\"].apply(lambda t: 1 if \"груд\" in t else 0).values)\n",
    "\n",
    "# has_balka\n",
    "x = x.assign(has_bol= x[\"diagnose\"].apply(lambda t: 1 if \"|\" in t else 0).values)"
   ]
  },
  {
   "cell_type": "code",
   "execution_count": 138,
   "metadata": {},
   "outputs": [],
   "source": [
    "x = x.drop('contact person name*', 1)\n",
    "x = x.drop('email*', 1)\n",
    "x = x.drop('diagnose', 1)"
   ]
  },
  {
   "cell_type": "code",
   "execution_count": 113,
   "metadata": {},
   "outputs": [],
   "source": [
    "y = y.apply(lambda t: 1 if t==3 or t==4 or t==5 else 0)"
   ]
  },
  {
   "cell_type": "code",
   "execution_count": 144,
   "metadata": {},
   "outputs": [],
   "source": [
    ""
   ]
  },
  {
   "cell_type": "code",
   "execution_count": 141,
   "metadata": {},
   "outputs": [
    {
     "name": "stdout",
     "output_type": "stream",
     "text": [
      "   quan_words  question  has_contact  without_stops  has_digit  big_letters  \\\n0           0         0            1              1          0            0   \n1           3         0            1              1          0            0   \n2           0         0            0              1          0            0   \n3           1         0            1              1          0            0   \n4           7         0            1              1          0            0   \n\n   not_empty  gmail  mailru  ukrnet  other  is_proper  has_bol  \n0          0      1       0       0      0          1        0  \n1          1      1       0       0      0          1        0  \n2          0      0       1       0      0          1        0  \n3          1      0       0       1      0          1        0  \n4          1      1       0       0      0          1        0  \n0    0\n1    0\n2    0\n3    0\n4    0\nName: removed (?1-удален; 2-в архиве; 3-успешно завершен; 4-current casses 5 - cusstom paid consultation; 6-pre sales ), dtype: int64\n"
     ]
    }
   ],
   "source": [
    "print (x.head())\n",
    "print (y.head())"
   ]
  },
  {
   "cell_type": "code",
   "execution_count": 146,
   "metadata": {},
   "outputs": [],
   "source": [
    "import matplotlib.pyplot as plt\n",
    "%matplotlib inline\n",
    "from sklearn import linear_model\n",
    "from sklearn.model_selection import train_test_split\n",
    "from sklearn.metrics import mean_squared_error, r2_score\n",
    "from sklearn.linear_model import LogisticRegression\n",
    "from sklearn.model_selection import GridSearchCV"
   ]
  },
  {
   "cell_type": "code",
   "execution_count": null,
   "metadata": {},
   "outputs": [],
   "source": [
    ""
   ]
  },
  {
   "cell_type": "code",
   "execution_count": 155,
   "metadata": {},
   "outputs": [
    {
     "name": "stdout",
     "output_type": "stream",
     "text": [
      "GridSearchCV(cv=None, error_score='raise',\n       estimator=LogisticRegression(C=1.0, class_weight=None, dual=False, fit_intercept=True,\n          intercept_scaling=1, max_iter=100, multi_class='ovr', n_jobs=1,\n          penalty='l2', random_state=None, solver='liblinear', tol=0.0001,\n          verbose=0, warm_start=False),\n       fit_params={}, iid=True, n_jobs=1,\n       param_grid={'C': [0.0009, 0.001, 0.00095, 0.00085, 10, 100, 1000]},\n       pre_dispatch='2*n_jobs', refit=True, return_train_score=True,\n       scoring=None, verbose=0)\nBest score for data1: 0.962527964206\nBest C: 0.0009\nBest C: [[-0.24533934  0.00039512 -0.12078528 -0.34483889 -0.00389165 -0.04768777\n  -0.15921051 -0.07785386 -0.14570733 -0.01129144 -0.12521838 -0.28622202\n   0.00100811]]\n"
     ]
    }
   ],
   "source": [
    "param_grid = {'C': [0.0009, 0.001, 0.01, 0.1, 10, 100, 1000] }\n",
    "clf = GridSearchCV(LogisticRegression(penalty='l2'), param_grid)\n",
    "clf = clf.fit(x, y)\n",
    "print(clf)\n",
    "# View the accuracy score\n",
    "print('Best score for data1:', clf.best_score_)\n",
    "print('Best C:',clf.best_estimator_.C)\n",
    "print('Best C:',clf.best_estimator_.coef_)"
   ]
  },
  {
   "cell_type": "code",
   "execution_count": 143,
   "metadata": {},
   "outputs": [
    {
     "data": {
      "text/plain": [
       "<matplotlib.image.AxesImage at 0x280ea17d550>"
      ]
     },
     "execution_count": 143,
     "metadata": {},
     "output_type": "execute_result"
    },
    {
     "data": {
      "image/png": "[encoded data removed]",
      "text/plain": [
       "<matplotlib.figure.Figure at 0x280ea123fd0>"
      ]
     },
     "metadata": {},
     "output_type": "display_data"
    }
   ],
   "source": [
    "plt.matshow(x.corr())"
   ]
  },
  {
   "cell_type": "code",
   "execution_count": null,
   "metadata": {},
   "outputs": [],
   "source": [
    ""
   ]
  }
 ],
 "metadata": {
  "kernelspec": {
   "display_name": "Python 2",
   "language": "python",
   "name": "python2"
  },
  "language_info": {
   "codemirror_mode": {
    "name": "ipython",
    "version": 2.0
   },
   "file_extension": ".py",
   "mimetype": "text/x-python",
   "name": "python",
   "nbconvert_exporter": "python",
   "pygments_lexer": "ipython2",
   "version": "2.7.6"
  }
 },
 "nbformat": 4,
 "nbformat_minor": 0
}